{
 "cells": [
  {
   "cell_type": "code",
   "execution_count": null,
   "outputs": [],
   "source": [
    "from lib.knn import KNeighborsClassifier\n",
    "\n",
    "df_train = pd.concat([pd.read_csv('data/data_train.csv'), pd.read_csv('data/data_validation.csv')])\n",
    "df_test = pd.read_csv('data/data_test.csv')\n",
    "X_train = df_train.drop('price_range',axis=1)\n",
    "y_train = df_train['price_range'].values\n",
    "X_test = df_test\n",
    "X_train_selected, X_test_selected, selected_features = get_x_test_best_features(4, X_train, y_train, X_test)\n",
    "X_test_selected = X_test_selected.values\n",
    "WeightedKNN = KNeighborsClassifier(n_neighbors=2, metric='manhattan', weight='distance')\n",
    "WeightedKNN.fit(X_train_selected, y_train)\n",
    "weighted_predictions = df_test['price_range'] = WeightedKNN.predict(X_test_selected)    \n",
    "df_test[['id','price_range']].to_csv(\"submission.csv\", index=False)\n"
   ],
   "metadata": {
    "collapsed": false
   },
   "id": "7333d177aecc7d8d"
  },
  {
   "cell_type": "code",
   "execution_count": null,
   "outputs": [],
   "source": [
    "df_submission = pd.read_csv('submission3.csv')\n",
    "df_submission3 = pd.read_csv('submission5.csv')\n",
    "\n",
    "y_1 = df_submission[\"price_range\"]\n",
    "y_2 = df_submission3[\"price_range\"]\n",
    "sim = 0\n",
    "for i in range (len(y_2)):\n",
    "    if y_1[i] == y_2[i]:\n",
    "        sim +=1\n",
    "print(sim/len(y_2))\n",
    "        "
   ],
   "metadata": {
    "collapsed": false
   },
   "id": "initial_id"
  }
 ],
 "metadata": {
  "kernelspec": {
   "display_name": "Python 3",
   "language": "python",
   "name": "python3"
  },
  "language_info": {
   "codemirror_mode": {
    "name": "ipython",
    "version": 2
   },
   "file_extension": ".py",
   "mimetype": "text/x-python",
   "name": "python",
   "nbconvert_exporter": "python",
   "pygments_lexer": "ipython2",
   "version": "2.7.6"
  }
 },
 "nbformat": 4,
 "nbformat_minor": 5
}
