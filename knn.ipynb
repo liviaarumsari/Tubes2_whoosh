{
 "cells": [
  {
   "cell_type": "markdown",
   "source": [],
   "metadata": {
    "collapsed": false
   },
   "id": "d7277ebd4b8a2832"
  },
  {
   "cell_type": "markdown",
   "source": [
    "## Imports"
   ],
   "metadata": {
    "collapsed": false
   },
   "id": "a0ebc58cb1ed5205"
  },
  {
   "cell_type": "code",
   "execution_count": 2,
   "outputs": [],
   "source": [
    "import numpy as np\n",
    "import pandas as pd\n",
    "import matplotlib.pyplot as plt"
   ],
   "metadata": {
    "collapsed": false,
    "ExecuteTime": {
     "end_time": "2023-11-24T08:31:52.719017800Z",
     "start_time": "2023-11-24T08:31:52.695431300Z"
    }
   },
   "id": "673c063da8937322"
  },
  {
   "cell_type": "markdown",
   "source": [
    "## Loading Data"
   ],
   "metadata": {
    "collapsed": false
   },
   "id": "ae3addfc92a9ea20"
  },
  {
   "cell_type": "code",
   "execution_count": 4,
   "outputs": [
    {
     "data": {
      "text/plain": "   battery_power  blue  clock_speed  dual_sim  fc  four_g  int_memory  m_dep  \\\n0            842     0          2.2         0   1       0           7    0.6   \n1            563     1          0.5         1   2       1          41    0.9   \n2            769     1          2.9         1   0       0           9    0.1   \n3            775     0          1.0         0   3       0          46    0.7   \n4            595     0          0.9         1   7       1          23    0.1   \n\n   mobile_wt  n_cores  ...  px_height  px_width   ram  sc_h  sc_w  talk_time  \\\n0        188        2  ...         20       756  2549     9     7         19   \n1        145        5  ...       1263      1716  2603    11     2          9   \n2        182        5  ...        248       874  3946     5     2          7   \n3        159        2  ...        862      1864   568    17    15         11   \n4        121        3  ...        441       810  3752    10     2         18   \n\n   three_g  touch_screen  wifi  price_range  \n0        0             0     1            1  \n1        1             1     0            2  \n2        0             0     0            3  \n3        1             1     1            0  \n4        1             1     0            3  \n\n[5 rows x 21 columns]",
      "text/html": "<div>\n<style scoped>\n    .dataframe tbody tr th:only-of-type {\n        vertical-align: middle;\n    }\n\n    .dataframe tbody tr th {\n        vertical-align: top;\n    }\n\n    .dataframe thead th {\n        text-align: right;\n    }\n</style>\n<table border=\"1\" class=\"dataframe\">\n  <thead>\n    <tr style=\"text-align: right;\">\n      <th></th>\n      <th>battery_power</th>\n      <th>blue</th>\n      <th>clock_speed</th>\n      <th>dual_sim</th>\n      <th>fc</th>\n      <th>four_g</th>\n      <th>int_memory</th>\n      <th>m_dep</th>\n      <th>mobile_wt</th>\n      <th>n_cores</th>\n      <th>...</th>\n      <th>px_height</th>\n      <th>px_width</th>\n      <th>ram</th>\n      <th>sc_h</th>\n      <th>sc_w</th>\n      <th>talk_time</th>\n      <th>three_g</th>\n      <th>touch_screen</th>\n      <th>wifi</th>\n      <th>price_range</th>\n    </tr>\n  </thead>\n  <tbody>\n    <tr>\n      <th>0</th>\n      <td>842</td>\n      <td>0</td>\n      <td>2.2</td>\n      <td>0</td>\n      <td>1</td>\n      <td>0</td>\n      <td>7</td>\n      <td>0.6</td>\n      <td>188</td>\n      <td>2</td>\n      <td>...</td>\n      <td>20</td>\n      <td>756</td>\n      <td>2549</td>\n      <td>9</td>\n      <td>7</td>\n      <td>19</td>\n      <td>0</td>\n      <td>0</td>\n      <td>1</td>\n      <td>1</td>\n    </tr>\n    <tr>\n      <th>1</th>\n      <td>563</td>\n      <td>1</td>\n      <td>0.5</td>\n      <td>1</td>\n      <td>2</td>\n      <td>1</td>\n      <td>41</td>\n      <td>0.9</td>\n      <td>145</td>\n      <td>5</td>\n      <td>...</td>\n      <td>1263</td>\n      <td>1716</td>\n      <td>2603</td>\n      <td>11</td>\n      <td>2</td>\n      <td>9</td>\n      <td>1</td>\n      <td>1</td>\n      <td>0</td>\n      <td>2</td>\n    </tr>\n    <tr>\n      <th>2</th>\n      <td>769</td>\n      <td>1</td>\n      <td>2.9</td>\n      <td>1</td>\n      <td>0</td>\n      <td>0</td>\n      <td>9</td>\n      <td>0.1</td>\n      <td>182</td>\n      <td>5</td>\n      <td>...</td>\n      <td>248</td>\n      <td>874</td>\n      <td>3946</td>\n      <td>5</td>\n      <td>2</td>\n      <td>7</td>\n      <td>0</td>\n      <td>0</td>\n      <td>0</td>\n      <td>3</td>\n    </tr>\n    <tr>\n      <th>3</th>\n      <td>775</td>\n      <td>0</td>\n      <td>1.0</td>\n      <td>0</td>\n      <td>3</td>\n      <td>0</td>\n      <td>46</td>\n      <td>0.7</td>\n      <td>159</td>\n      <td>2</td>\n      <td>...</td>\n      <td>862</td>\n      <td>1864</td>\n      <td>568</td>\n      <td>17</td>\n      <td>15</td>\n      <td>11</td>\n      <td>1</td>\n      <td>1</td>\n      <td>1</td>\n      <td>0</td>\n    </tr>\n    <tr>\n      <th>4</th>\n      <td>595</td>\n      <td>0</td>\n      <td>0.9</td>\n      <td>1</td>\n      <td>7</td>\n      <td>1</td>\n      <td>23</td>\n      <td>0.1</td>\n      <td>121</td>\n      <td>3</td>\n      <td>...</td>\n      <td>441</td>\n      <td>810</td>\n      <td>3752</td>\n      <td>10</td>\n      <td>2</td>\n      <td>18</td>\n      <td>1</td>\n      <td>1</td>\n      <td>0</td>\n      <td>3</td>\n    </tr>\n  </tbody>\n</table>\n<p>5 rows × 21 columns</p>\n</div>"
     },
     "execution_count": 4,
     "metadata": {},
     "output_type": "execute_result"
    }
   ],
   "source": [
    "df_train = pd.read_csv('./data/data_train.csv')\n",
    "df_train.head()\n",
    "\n",
    "df_test = pd.read_csv('./data/data_validation.csv')\n",
    "df_test.head()"
   ],
   "metadata": {
    "collapsed": false,
    "ExecuteTime": {
     "end_time": "2023-11-24T08:32:10.917449700Z",
     "start_time": "2023-11-24T08:32:10.748196200Z"
    }
   },
   "id": "ac70f4854f89cce2"
  },
  {
   "cell_type": "code",
   "execution_count": 5,
   "outputs": [],
   "source": [
    "X_train = df_train.drop('price_range',axis=1).values\n",
    "y_train = df_train['price_range'].values\n",
    "\n",
    "X_test = df_test.drop('price_range',axis=1).values\n",
    "y_test = df_test['price_range'].values"
   ],
   "metadata": {
    "collapsed": false,
    "ExecuteTime": {
     "end_time": "2023-11-24T08:32:19.963067800Z",
     "start_time": "2023-11-24T08:32:19.901137100Z"
    }
   },
   "id": "e20f93fb0fbb76e2"
  },
  {
   "cell_type": "code",
   "execution_count": null,
   "outputs": [],
   "source": [],
   "metadata": {
    "collapsed": false
   },
   "id": "2ee387b6215a5028"
  },
  {
   "cell_type": "markdown",
   "source": [
    "## KNN From Scratch"
   ],
   "metadata": {
    "collapsed": false
   },
   "id": "b83bc49649893603"
  },
  {
   "cell_type": "code",
   "execution_count": null,
   "outputs": [],
   "source": [
    "class KNeighborsClassifier():\n",
    "    def __init__(self, n_neighbors, metric):\n",
    "        self.n_neighbors = n_neighbors\n",
    "        self.metric = metric\n",
    "        self.X_train_scaled = []\n",
    "        self.y_train = []\n",
    "    def fit(self, X_train_scaled,y_train): \n",
    "        \"\"\"\n",
    "        :param X_train_scaled: \n",
    "        :param y_train: \n",
    "        :return: \n",
    "        \"\"\"\n",
    "        self.X_train_scaled = X_train_scaled\n",
    "        self.y_train = y_train\n",
    "    # def predict(self):\n",
    "        \n",
    "        "
   ],
   "metadata": {
    "collapsed": false
   },
   "id": "ff7a6f62d3d4fb2d"
  }
 ],
 "metadata": {
  "kernelspec": {
   "display_name": "Python 3",
   "language": "python",
   "name": "python3"
  },
  "language_info": {
   "codemirror_mode": {
    "name": "ipython",
    "version": 2
   },
   "file_extension": ".py",
   "mimetype": "text/x-python",
   "name": "python",
   "nbconvert_exporter": "python",
   "pygments_lexer": "ipython2",
   "version": "2.7.6"
  }
 },
 "nbformat": 4,
 "nbformat_minor": 5
}
