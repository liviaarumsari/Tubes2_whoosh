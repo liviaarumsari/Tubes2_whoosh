{
 "cells": [
  {
   "cell_type": "markdown",
   "id": "a0ebc58cb1ed5205",
   "metadata": {
    "collapsed": false
   },
   "source": [
    "## Imports"
   ]
  },
  {
   "cell_type": "code",
   "execution_count": 1,
   "id": "673c063da8937322",
   "metadata": {
    "ExecuteTime": {
     "end_time": "2023-11-24T16:42:09.230597800Z",
     "start_time": "2023-11-24T16:42:09.089440600Z"
    },
    "collapsed": false
   },
   "outputs": [],
   "source": [
    "import pandas as pd\n",
    "import warnings\n",
    "\n",
    "# Ignore all warnings\n",
    "warnings.filterwarnings(\"ignore\")"
   ]
  },
  {
   "cell_type": "markdown",
   "id": "ae3addfc92a9ea20",
   "metadata": {
    "collapsed": false
   },
   "source": [
    "## Loading Data"
   ]
  },
  {
   "cell_type": "code",
   "execution_count": 2,
   "id": "ac70f4854f89cce2",
   "metadata": {
    "ExecuteTime": {
     "end_time": "2023-11-24T16:42:09.287154400Z",
     "start_time": "2023-11-24T16:42:09.105081600Z"
    },
    "collapsed": false
   },
   "outputs": [],
   "source": [
    "df_train = pd.read_csv('data/data_train.csv')\n",
    "df_test = pd.read_csv('data/data_validation.csv')"
   ]
  },
  {
   "cell_type": "code",
   "execution_count": 3,
   "id": "e20f93fb0fbb76e2",
   "metadata": {
    "ExecuteTime": {
     "end_time": "2023-11-24T16:42:09.287154400Z",
     "start_time": "2023-11-24T16:42:09.120704600Z"
    },
    "collapsed": false
   },
   "outputs": [],
   "source": [
    "X_train = df_train.drop('price_range',axis=1)\n",
    "y_train = df_train['price_range']\n",
    "\n",
    "X_test = df_test.drop('price_range',axis=1)\n",
    "y_test = df_test['price_range']"
   ]
  },
  {
   "cell_type": "markdown",
   "id": "512434bbd9f44378",
   "metadata": {
    "collapsed": false
   },
   "source": [
    "# Utilities"
   ]
  },
  {
   "cell_type": "code",
   "execution_count": 4,
   "id": "f56c02164728b34c",
   "metadata": {
    "ExecuteTime": {
     "end_time": "2023-11-24T16:42:09.538124800Z",
     "start_time": "2023-11-24T16:42:09.136331Z"
    },
    "collapsed": false
   },
   "outputs": [],
   "source": [
    "from sklearn.feature_selection import SelectKBest\n",
    "from sklearn.feature_selection import f_classif\n",
    "\n",
    "def get_x_test_best_features(n_features, X_train, y_train, X_test):\n",
    "    selector = SelectKBest(f_classif, k=n_features)\n",
    "    X_train_selected = selector.fit_transform(X_train, y_train)\n",
    "    \n",
    "    input_features = selector.feature_names_in_\n",
    "    selected_features = selector.get_feature_names_out(input_features=input_features)\n",
    "    X_test_selected = X_test[selected_features]\n",
    "    return X_train_selected, X_test_selected, selected_features"
   ]
  },
  {
   "cell_type": "markdown",
   "id": "ada65aecb4491f0d",
   "metadata": {},
   "source": [
    "# Hyperparameter Tuning - Find Best Parameters [Experiment with Scikit]"
   ]
  },
  {
   "cell_type": "code",
   "execution_count": 5,
   "id": "2ee387b6215a5028",
   "metadata": {
    "ExecuteTime": {
     "end_time": "2023-11-24T16:42:53.681746500Z",
     "start_time": "2023-11-24T16:42:09.151962600Z"
    },
    "collapsed": false
   },
   "outputs": [
    {
     "name": "stdout",
     "output_type": "stream",
     "text": [
      "BEST parameters:  KNeighborsClassifier(metric='euclidean', n_neighbors=19) 6 ['battery_power' 'int_memory' 'mobile_wt' 'px_height' 'px_width' 'ram'] 19 euclidean 0.94\n"
     ]
    }
   ],
   "source": [
    "from sklearn.neighbors import KNeighborsClassifier\n",
    "\n",
    "model = KNeighborsClassifier()\n",
    "\n",
    "Ns_selected_feature = [i for i in range(1, df_train.shape[1])]\n",
    "neighbors = [i for i in range(1, 30)]\n",
    "metrics = ['euclidean', 'manhattan', 'jaccard']\n",
    "\n",
    "KNN_scikit, N_FEATURES_SELECTED, BEST_SELECTED_FEATURES, BEST_N_NEIGHBORS, BEST_METRIC, value = None, None, None, None, None, -1\n",
    "\n",
    "for n in Ns_selected_feature:\n",
    "    X_train_selected, X_test_selected, selected_features = get_x_test_best_features(n, X_train, y_train, X_test)\n",
    "\n",
    "    for neighbor in neighbors:\n",
    "        for metric in metrics:\n",
    "            KNN = KNeighborsClassifier(n_neighbors=neighbor, metric=metric)\n",
    "            KNN.fit(X_train_selected,y_train)\n",
    "            KNN_score = KNN.score(X_test_selected, y_test)           \n",
    "            if KNN_score > value:\n",
    "                KNN_scikit, N_FEATURES_SELECTED, BEST_SELECTED_FEATURES, BEST_N_NEIGHBORS, BEST_METRIC, value = KNN, n, selected_features, neighbor, metric, KNN_score\n",
    "\n",
    "print('BEST parameters: ', KNN_scikit, N_FEATURES_SELECTED, BEST_SELECTED_FEATURES, BEST_N_NEIGHBORS, BEST_METRIC, value)      "
   ]
  },
  {
   "cell_type": "markdown",
   "metadata": {},
   "source": [
    "`KNN_scikit`  is the optimal model obtained from the performance tuning process, which was conducted using the Scikit-learn library. This model is saved for subsequent performance evaluations."
   ]
  },
  {
   "cell_type": "markdown",
   "id": "b83bc49649893603",
   "metadata": {
    "collapsed": false
   },
   "source": [
    "## KNN Scratch Model Training"
   ]
  },
  {
   "cell_type": "code",
   "execution_count": 6,
   "id": "ff7a6f62d3d4fb2d",
   "metadata": {
    "ExecuteTime": {
     "end_time": "2023-11-24T16:42:56.987479900Z",
     "start_time": "2023-11-24T16:42:53.681746500Z"
    },
    "collapsed": false
   },
   "outputs": [
    {
     "name": "stdout",
     "output_type": "stream",
     "text": [
      "Training with KNN from Scratch with parameters: \n",
      "Selected features count: 6\n",
      "Selected features: ['battery_power' 'int_memory' 'mobile_wt' 'px_height' 'px_width' 'ram']\n",
      "K nearest neighbors: 19\n",
      "Metric: euclidean\n"
     ]
    }
   ],
   "source": [
    "from lib.knn import KNeighborsClassifier\n",
    "\n",
    "print(\"Training with KNN from Scratch with parameters: \")\n",
    "print(\"Selected features count:\", N_FEATURES_SELECTED)\n",
    "print(\"Selected features:\", BEST_SELECTED_FEATURES)\n",
    "print(\"K nearest neighbors:\", BEST_N_NEIGHBORS)\n",
    "print(\"Metric:\", BEST_METRIC)\n",
    "\n",
    "X_train_selected, X_test_selected, selected_features = get_x_test_best_features(N_FEATURES_SELECTED, X_train, y_train, X_test)\n",
    "X_test_selected = X_test_selected.values\n",
    "KNN_scratch = KNeighborsClassifier(n_neighbors=BEST_N_NEIGHBORS, metric=BEST_METRIC)\n",
    "KNN_scratch.fit(X_train_selected,y_train)"
   ]
  },
  {
   "cell_type": "markdown",
   "id": "7130c0cc48c97399",
   "metadata": {},
   "source": [
    "## Performance Evaluation"
   ]
  },
  {
   "cell_type": "code",
   "execution_count": 7,
   "id": "ebacc11cf683af91",
   "metadata": {
    "ExecuteTime": {
     "end_time": "2023-11-24T16:42:57.003130200Z",
     "start_time": "2023-11-24T16:42:56.987479900Z"
    }
   },
   "outputs": [],
   "source": [
    "from sklearn.metrics import precision_score, recall_score, accuracy_score, f1_score\n",
    "\n",
    "def evaluate_classifier_performance(prediction, y_test):\n",
    "    metrics = {\n",
    "        'Accuracy Average': accuracy_score(y_test, prediction),\n",
    "        'F1 Macro Average': f1_score(y_test, prediction, average='macro'),\n",
    "        'F1 Micro Average': f1_score(y_test, prediction, average='micro'),\n",
    "        'Precision Macro Average': precision_score(y_test, prediction, average='macro', zero_division=0),\n",
    "        'Precision Micro Average': precision_score(y_test, prediction, average='micro', zero_division=0),\n",
    "        'Recall Macro Average': recall_score(y_test, prediction, average='macro', zero_division=0),\n",
    "        'Recall Micro Average': recall_score(y_test, prediction, average='micro', zero_division=0)\n",
    "    }\n",
    "\n",
    "    for metric, value in metrics.items():\n",
    "        print(f'{metric}: {value:.2f}')"
   ]
  },
  {
   "cell_type": "markdown",
   "metadata": {},
   "source": [
    "### KNN Scikit Performance Evaluation"
   ]
  },
  {
   "cell_type": "code",
   "execution_count": 8,
   "metadata": {},
   "outputs": [
    {
     "name": "stdout",
     "output_type": "stream",
     "text": [
      "KNN Scikit performances:\n",
      "Accuracy Average: 0.94\n",
      "F1 Macro Average: 0.94\n",
      "F1 Micro Average: 0.94\n",
      "Precision Macro Average: 0.94\n",
      "Precision Micro Average: 0.94\n",
      "Recall Macro Average: 0.94\n",
      "Recall Micro Average: 0.94\n"
     ]
    }
   ],
   "source": [
    "y_pred_by_scikit = KNN_scikit.predict(X_test_selected)\n",
    "\n",
    "print('KNN Scikit performances:')\n",
    "evaluate_classifier_performance(y_pred_by_scikit, y_test)"
   ]
  },
  {
   "cell_type": "markdown",
   "metadata": {},
   "source": [
    "### KNN Scratch Performance Evaluation"
   ]
  },
  {
   "cell_type": "code",
   "execution_count": 9,
   "id": "cf22932f5fa07269",
   "metadata": {
    "ExecuteTime": {
     "end_time": "2023-11-24T16:43:00.256295700Z",
     "start_time": "2023-11-24T16:42:57.003130200Z"
    }
   },
   "outputs": [
    {
     "name": "stdout",
     "output_type": "stream",
     "text": [
      "KNN Scratch performances:\n",
      "Accuracy Average: 0.94\n",
      "F1 Macro Average: 0.94\n",
      "F1 Micro Average: 0.94\n",
      "Precision Macro Average: 0.94\n",
      "Precision Micro Average: 0.94\n",
      "Recall Macro Average: 0.94\n",
      "Recall Micro Average: 0.94\n"
     ]
    }
   ],
   "source": [
    "y_pred_by_scratch = KNN_scratch.predict(X_test_selected)\n",
    "\n",
    "print('KNN Scratch performances:')\n",
    "evaluate_classifier_performance(y_pred_by_scratch, y_test)"
   ]
  },
  {
   "cell_type": "markdown",
   "id": "2bb6410b8e4eb2d5",
   "metadata": {
    "collapsed": false
   },
   "source": [
    "# Test with Data Test"
   ]
  },
  {
   "cell_type": "code",
   "execution_count": 10,
   "id": "45349664c3324912",
   "metadata": {
    "ExecuteTime": {
     "end_time": "2023-11-24T16:43:16.218906400Z",
     "start_time": "2023-11-24T16:43:00.256295700Z"
    },
    "collapsed": false
   },
   "outputs": [],
   "source": [
    "from sklearn.feature_selection import SelectKBest\n",
    "from sklearn.feature_selection import f_classif\n",
    "from lib.knn import KNeighborsClassifier\n",
    "\n",
    "df_train = pd.concat([pd.read_csv('data/data_train.csv'), pd.read_csv('data/data_validation.csv')])\n",
    "df_test = pd.read_csv('data/data_test.csv')\n",
    "X_train = df_train.drop('price_range',axis=1)\n",
    "y_train = df_train['price_range'].values\n",
    "X_test = df_test\n",
    "\n",
    "X_train_selected, X_test_selected, selected_features = get_x_test_best_features(N_FEATURES_SELECTED, X_train, y_train, X_test)\n",
    "X_test_selected = X_test_selected.values\n",
    "KNN = KNeighborsClassifier(n_neighbors=BEST_N_NEIGHBORS, metric=BEST_METRIC)\n",
    "KNN.fit(X_train_selected,y_train)\n",
    "predictions = df_test['price_range'] = KNN.predict(X_test_selected)\n",
    "df_test[['id','price_range']].to_csv(\"submission.csv\", index=False)\n"
   ]
  }
 ],
 "metadata": {
  "kernelspec": {
   "display_name": "Python 3",
   "language": "python",
   "name": "python3"
  },
  "language_info": {
   "codemirror_mode": {
    "name": "ipython",
    "version": 3
   },
   "file_extension": ".py",
   "mimetype": "text/x-python",
   "name": "python",
   "nbconvert_exporter": "python",
   "pygments_lexer": "ipython3",
   "version": "3.11.2"
  }
 },
 "nbformat": 4,
 "nbformat_minor": 5
}
