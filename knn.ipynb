{
 "cells": [
  {
   "cell_type": "markdown",
   "id": "a0ebc58cb1ed5205",
   "metadata": {
    "collapsed": false
   },
   "source": [
    "## Imports"
   ]
  },
  {
   "cell_type": "code",
   "execution_count": 2,
   "id": "673c063da8937322",
   "metadata": {
    "collapsed": false,
    "ExecuteTime": {
     "end_time": "2023-11-28T01:15:46.618605500Z",
     "start_time": "2023-11-28T01:15:46.466939Z"
    }
   },
   "outputs": [],
   "source": [
    "import pandas as pd\n",
    "import warnings\n",
    "\n",
    "# Ignore all warnings\n",
    "warnings.filterwarnings(\"ignore\")"
   ]
  },
  {
   "cell_type": "markdown",
   "id": "ae3addfc92a9ea20",
   "metadata": {
    "collapsed": false
   },
   "source": [
    "## Loading Data"
   ]
  },
  {
   "cell_type": "code",
   "execution_count": 3,
   "id": "ac70f4854f89cce2",
   "metadata": {
    "collapsed": false,
    "ExecuteTime": {
     "end_time": "2023-11-28T01:15:47.571358500Z",
     "start_time": "2023-11-28T01:15:46.501581700Z"
    }
   },
   "outputs": [],
   "source": [
    "df_train = pd.read_csv('data/data_train.csv')\n",
    "df_test = pd.read_csv('data/data_validation.csv')"
   ]
  },
  {
   "cell_type": "code",
   "execution_count": 4,
   "id": "e20f93fb0fbb76e2",
   "metadata": {
    "collapsed": false,
    "ExecuteTime": {
     "end_time": "2023-11-28T01:15:47.610702700Z",
     "start_time": "2023-11-28T01:15:47.571358500Z"
    }
   },
   "outputs": [],
   "source": [
    "X_train = df_train.drop('price_range',axis=1)\n",
    "y_train = df_train['price_range']\n",
    "\n",
    "X_test = df_test.drop('price_range',axis=1)\n",
    "y_test = df_test['price_range']"
   ]
  },
  {
   "cell_type": "markdown",
   "id": "512434bbd9f44378",
   "metadata": {
    "collapsed": false
   },
   "source": [
    "# Utilities"
   ]
  },
  {
   "cell_type": "code",
   "execution_count": 5,
   "id": "f56c02164728b34c",
   "metadata": {
    "collapsed": false,
    "ExecuteTime": {
     "end_time": "2023-11-28T01:15:51.339595300Z",
     "start_time": "2023-11-28T01:15:47.609133300Z"
    }
   },
   "outputs": [],
   "source": [
    "from sklearn.feature_selection import SelectKBest\n",
    "from sklearn.feature_selection import f_classif\n",
    "\n",
    "def get_x_test_best_features(n_features, X_train, y_train, X_test):\n",
    "    selector = SelectKBest(f_classif, k=n_features)\n",
    "    X_train_selected = selector.fit_transform(X_train, y_train)\n",
    "    \n",
    "    input_features = selector.feature_names_in_\n",
    "    selected_features = selector.get_feature_names_out(input_features=input_features)\n",
    "    X_test_selected = X_test[selected_features]\n",
    "    return X_train_selected, X_test_selected, selected_features"
   ]
  },
  {
   "cell_type": "markdown",
   "id": "ada65aecb4491f0d",
   "metadata": {},
   "source": [
    "# Hyperparameter Tuning - Find Best Parameters [Experiment with Scikit]"
   ]
  },
  {
   "cell_type": "code",
   "execution_count": 6,
   "id": "2ee387b6215a5028",
   "metadata": {
    "collapsed": false,
    "ExecuteTime": {
     "end_time": "2023-11-28T01:17:11.852873500Z",
     "start_time": "2023-11-28T01:15:51.330991100Z"
    }
   },
   "outputs": [
    {
     "name": "stdout",
     "output_type": "stream",
     "text": [
      "BEST parameters:  KNeighborsClassifier(metric='euclidean', n_neighbors=17, weights='distance') 4 ['battery_power' 'px_height' 'px_width' 'ram'] 17 euclidean 0.94\n"
     ]
    }
   ],
   "source": [
    "from sklearn.neighbors import KNeighborsClassifier\n",
    "\n",
    "model = KNeighborsClassifier()\n",
    "\n",
    "Ns_selected_feature = [i for i in range(1, df_train.shape[1])]\n",
    "neighbors = [i for i in range(1, 30)]\n",
    "metrics = ['euclidean', 'manhattan', 'jaccard']\n",
    "weights = ['distance', 'uniform']\n",
    "KNN_scikit, N_FEATURES_SELECTED, BEST_SELECTED_FEATURES, BEST_N_NEIGHBORS, BEST_METRIC, BEST_WEIGHT, value = None, None, None, None, None, None, -1\n",
    "\n",
    "for n in Ns_selected_feature:\n",
    "    X_train_selected, X_test_selected, selected_features = get_x_test_best_features(n, X_train, y_train, X_test)\n",
    "\n",
    "    for neighbor in neighbors:\n",
    "        for metric in metrics:\n",
    "            for weight in weights:\n",
    "                KNN = KNeighborsClassifier(n_neighbors=neighbor, metric=metric, weights=weight)\n",
    "                KNN.fit(X_train_selected,y_train)\n",
    "                KNN_score = KNN.score(X_test_selected, y_test)           \n",
    "                if KNN_score > value:\n",
    "                    KNN_scikit, N_FEATURES_SELECTED, BEST_SELECTED_FEATURES, BEST_N_NEIGHBORS, BEST_METRIC, BEST_WEIGHT, value = KNN, n, selected_features, neighbor, metric, weight, KNN_score\n",
    "\n",
    "print('BEST parameters: ', KNN_scikit, N_FEATURES_SELECTED, BEST_SELECTED_FEATURES, BEST_N_NEIGHBORS, BEST_METRIC, value)      "
   ]
  },
  {
   "cell_type": "markdown",
   "metadata": {},
   "source": [
    "`KNN_scikit`  is the optimal model obtained from the performance tuning process, which was conducted using the Scikit-learn library. This model is saved for subsequent performance evaluations."
   ],
   "id": "127f39ad1cae8544"
  },
  {
   "cell_type": "markdown",
   "id": "b83bc49649893603",
   "metadata": {
    "collapsed": false
   },
   "source": [
    "## KNN Scratch Model Training"
   ]
  },
  {
   "cell_type": "code",
   "execution_count": 7,
   "id": "ff7a6f62d3d4fb2d",
   "metadata": {
    "collapsed": false,
    "ExecuteTime": {
     "end_time": "2023-11-28T01:17:12.113726500Z",
     "start_time": "2023-11-28T01:17:11.852873500Z"
    }
   },
   "outputs": [
    {
     "name": "stdout",
     "output_type": "stream",
     "text": [
      "Training with KNN from Scratch with parameters: \n",
      "Selected features count: 4\n",
      "Selected features: ['battery_power' 'px_height' 'px_width' 'ram']\n",
      "K nearest neighbors: 17\n",
      "Metric: euclidean\n"
     ]
    }
   ],
   "source": [
    "from lib.knn import KNeighborsClassifier\n",
    "\n",
    "print(\"Training with KNN from Scratch with parameters: \")\n",
    "print(\"Selected features count:\", N_FEATURES_SELECTED)\n",
    "print(\"Selected features:\", BEST_SELECTED_FEATURES)\n",
    "print(\"K nearest neighbors:\", BEST_N_NEIGHBORS)\n",
    "print(\"Metric:\", BEST_METRIC)\n",
    "\n",
    "X_train_selected, X_test_selected, selected_features = get_x_test_best_features(N_FEATURES_SELECTED, X_train, y_train, X_test)\n",
    "X_test_selected = X_test_selected.values\n",
    "KNN_scratch = KNeighborsClassifier(n_neighbors=BEST_N_NEIGHBORS, metric=BEST_METRIC, weight=BEST_WEIGHT)\n",
    "KNN_scratch.fit(X_train_selected,y_train)"
   ]
  },
  {
   "cell_type": "markdown",
   "id": "7130c0cc48c97399",
   "metadata": {},
   "source": [
    "## Performance Evaluation"
   ]
  },
  {
   "cell_type": "code",
   "execution_count": 8,
   "id": "ebacc11cf683af91",
   "metadata": {
    "ExecuteTime": {
     "end_time": "2023-11-28T01:17:12.125633700Z",
     "start_time": "2023-11-28T01:17:12.112706300Z"
    }
   },
   "outputs": [],
   "source": [
    "from sklearn.metrics import precision_score, recall_score, accuracy_score, f1_score\n",
    "\n",
    "def evaluate_classifier_performance(prediction, y_test):\n",
    "    metrics = {\n",
    "        'Accuracy Average': accuracy_score(y_test, prediction),\n",
    "        'F1 Macro Average': f1_score(y_test, prediction, average='macro'),\n",
    "        'F1 Micro Average': f1_score(y_test, prediction, average='micro'),\n",
    "        'Precision Macro Average': precision_score(y_test, prediction, average='macro', zero_division=0),\n",
    "        'Precision Micro Average': precision_score(y_test, prediction, average='micro', zero_division=0),\n",
    "        'Recall Macro Average': recall_score(y_test, prediction, average='macro', zero_division=0),\n",
    "        'Recall Micro Average': recall_score(y_test, prediction, average='micro', zero_division=0)\n",
    "    }\n",
    "\n",
    "    for metric, value in metrics.items():\n",
    "        print(f'{metric}: {value:.2f}')"
   ]
  },
  {
   "cell_type": "markdown",
   "metadata": {},
   "source": [
    "### KNN Scikit Performance Evaluation"
   ],
   "id": "7615359b7abbabf6"
  },
  {
   "cell_type": "code",
   "execution_count": 9,
   "metadata": {
    "ExecuteTime": {
     "end_time": "2023-11-28T01:17:12.186158500Z",
     "start_time": "2023-11-28T01:17:12.129012300Z"
    }
   },
   "outputs": [
    {
     "name": "stdout",
     "output_type": "stream",
     "text": [
      "KNN Scikit performances:\n",
      "Accuracy Average: 0.94\n",
      "F1 Macro Average: 0.94\n",
      "F1 Micro Average: 0.94\n",
      "Precision Macro Average: 0.94\n",
      "Precision Micro Average: 0.94\n",
      "Recall Macro Average: 0.94\n",
      "Recall Micro Average: 0.94\n"
     ]
    }
   ],
   "source": [
    "y_pred_by_scikit = KNN_scikit.predict(X_test_selected)\n",
    "\n",
    "print('KNN Scikit performances:')\n",
    "evaluate_classifier_performance(y_pred_by_scikit, y_test)"
   ],
   "id": "2cb50bd7a3b9cf24"
  },
  {
   "cell_type": "markdown",
   "metadata": {},
   "source": [
    "### KNN Scratch Performance Evaluation"
   ],
   "id": "51cac0aeafa5ee55"
  },
  {
   "cell_type": "code",
   "execution_count": 10,
   "id": "cf22932f5fa07269",
   "metadata": {
    "ExecuteTime": {
     "end_time": "2023-11-28T01:17:16.788992200Z",
     "start_time": "2023-11-28T01:17:12.186158500Z"
    }
   },
   "outputs": [
    {
     "name": "stdout",
     "output_type": "stream",
     "text": [
      "KNN Scratch performances:\n",
      "Accuracy Average: 0.94\n",
      "F1 Macro Average: 0.94\n",
      "F1 Micro Average: 0.94\n",
      "Precision Macro Average: 0.94\n",
      "Precision Micro Average: 0.94\n",
      "Recall Macro Average: 0.94\n",
      "Recall Micro Average: 0.94\n"
     ]
    }
   ],
   "source": [
    "y_pred_by_scratch = KNN_scratch.predict(X_test_selected)\n",
    "\n",
    "print('KNN Scratch performances:')\n",
    "evaluate_classifier_performance(y_pred_by_scratch, y_test)"
   ]
  },
  {
   "cell_type": "markdown",
   "id": "2bb6410b8e4eb2d5",
   "metadata": {
    "collapsed": false
   },
   "source": [
    "# Test with Data Test"
   ]
  },
  {
   "cell_type": "code",
   "execution_count": 11,
   "id": "45349664c3324912",
   "metadata": {
    "collapsed": false,
    "ExecuteTime": {
     "end_time": "2023-11-28T01:17:28.887009900Z",
     "start_time": "2023-11-28T01:17:16.789994500Z"
    }
   },
   "outputs": [],
   "source": [
    "from sklearn.feature_selection import SelectKBest\n",
    "from sklearn.feature_selection import f_classif\n",
    "from lib.knn import KNeighborsClassifier\n",
    "\n",
    "df_train = pd.concat([pd.read_csv('data/data_train.csv'), pd.read_csv('data/data_validation.csv')])\n",
    "df_test = pd.read_csv('data/data_test.csv')\n",
    "X_train = df_train.drop('price_range',axis=1)\n",
    "y_train = df_train['price_range'].values\n",
    "X_test = df_test\n",
    "\n",
    "X_train_selected, X_test_selected, selected_features = get_x_test_best_features(N_FEATURES_SELECTED, X_train, y_train, X_test)\n",
    "X_test_selected = X_test_selected.values\n",
    "KNN = KNeighborsClassifier(n_neighbors=BEST_N_NEIGHBORS, metric=BEST_METRIC, weight=BEST_WEIGHT)\n",
    "KNN.fit(X_train_selected,y_train)\n",
    "predictions = df_test['price_range'] = KNN.predict(X_test_selected)\n",
    "df_test[['id','price_range']].to_csv(\"submission.csv\", index=False)\n"
   ]
  },
  {
   "cell_type": "markdown",
   "source": [
    "# Test With Data Test [Parameter Tuning]"
   ],
   "metadata": {
    "collapsed": false
   },
   "id": "ec43a49ae4045b51"
  },
  {
   "cell_type": "code",
   "execution_count": 12,
   "outputs": [],
   "source": [
    "from lib.knn import KNeighborsClassifier\n",
    "\n",
    "df_train = pd.concat([pd.read_csv('data/data_train.csv'), pd.read_csv('data/data_validation.csv')])\n",
    "df_test = pd.read_csv('data/data_test.csv')\n",
    "X_train = df_train.drop('price_range',axis=1)\n",
    "y_train = df_train['price_range'].values\n",
    "X_test = df_test\n",
    "X_train_selected, X_test_selected, _ = get_x_test_best_features(4, X_train, y_train, X_test)\n",
    "X_test_selected = X_test_selected.values\n",
    "WeightedKNN = KNeighborsClassifier(n_neighbors=2, metric='euclidean', weight='distance')\n",
    "WeightedKNN.fit(X_train_selected, y_train)\n",
    "weighted_predictions = df_test['price_range'] = WeightedKNN.predict(X_test_selected)    \n",
    "df_test[['id','price_range']].to_csv(\"submission3.csv\", index=False)"
   ],
   "metadata": {
    "collapsed": false,
    "ExecuteTime": {
     "end_time": "2023-11-28T01:17:40.917074300Z",
     "start_time": "2023-11-28T01:17:28.893018300Z"
    }
   },
   "id": "dda9bc99ba165830"
  },
  {
   "cell_type": "markdown",
   "source": [
    "# Fix Bad Values with Predict Proba"
   ],
   "metadata": {
    "collapsed": false
   },
   "id": "151f91868a0c9cdd"
  },
  {
   "cell_type": "code",
   "execution_count": 14,
   "outputs": [
    {
     "name": "stdout",
     "output_type": "stream",
     "text": [
      "[0, 0, 0.5011064707344087, 0.49889352926559133] 554\n",
      "[0, 0.4954653901393023, 0.5045346098606976, 0] 1679\n",
      "[0, 0, 0.5162390640816498, 0.4837609359183502] 307\n",
      "[0, 0, 0.520777545886357, 0.4792224541136429] 627\n",
      "[0, 0, 0.4773947462379793, 0.5226052537620207] 877\n",
      "[0, 0, 0.47518892660413137, 0.5248110733958686] 1255\n",
      "[0, 0, 0.4596587757948186, 0.5403412242051813] 1161\n",
      "[0, 0.4558181387743849, 0.5441818612256152, 0] 891\n",
      "[0, 0, 0.4522164973641486, 0.5477835026358514] 87\n",
      "[0, 0, 0.5568199139300236, 0.4431800860699765] 158\n",
      "[0, 0.43749537105069763, 0.5625046289493024, 0] 1579\n",
      "[0, 0, 0.4304200499076384, 0.5695799500923616] 253\n",
      "[0, 0, 0.4287218273828848, 0.5712781726171152] 1437\n",
      "[0, 0, 0.42254434797583845, 0.5774556520241616] 631\n",
      "[0.40222688514055754, 0.5977731148594424, 0, 0] 748\n",
      "[0, 0, 0.5997284535059885, 0.40027154649401164] 1181\n",
      "[0, 0, 0.602382628385664, 0.3976173716143359] 64\n",
      "[0, 0, 0.6038349613193685, 0.39616503868063135] 1389\n",
      "[0, 0.3853404895314143, 0.6146595104685857, 0] 177\n",
      "[0, 0.6147203155914511, 0.38527968440854893, 0] 1733\n"
     ]
    }
   ],
   "source": [
    "from lib.knn import KNeighborsClassifier\n",
    "df_train = pd.concat([pd.read_csv('data/data_train.csv'), pd.read_csv('data/data_validation.csv')])\n",
    "df_test = pd.read_csv('data/data_test.csv')\n",
    "X_train = df_train.drop('price_range',axis=1)\n",
    "y_train = df_train['price_range'].values\n",
    "X_test = df_test\n",
    "df_test_3 = pd.read_csv('submission3.csv')\n",
    "y_test = df_test_3['price_range']\n",
    "X_train_selected, X_test_selected, _ = get_x_test_best_features(4, X_train, y_train, X_test)\n",
    "X_test_selected = X_test_selected.values\n",
    "KNN = KNeighborsClassifier(n_neighbors=2, metric='euclidean', weight='distance')\n",
    "KNN.fit(X_train_selected, y_train)\n",
    "prediction_proba = KNN.predict_proba(X_test_selected)\n",
    "\n",
    "sorted_list = sorted(enumerate(prediction_proba), key=lambda x: max(x[1]))\n",
    "for index, sublist in sorted_list[:20]:\n",
    "    print(sublist, index)\n"
   ],
   "metadata": {
    "collapsed": false,
    "ExecuteTime": {
     "end_time": "2023-11-28T01:23:29.822770500Z",
     "start_time": "2023-11-28T01:23:17.447088700Z"
    }
   },
   "id": "40370d759d9b47e1"
  },
  {
   "cell_type": "markdown",
   "source": [
    "Base on the predict proba above, we can see that the prediction is still \"unsure\" on some data due to the very small difference between the probability of two target values. We used this to tune our submission and achieve 0.997 score"
   ],
   "metadata": {
    "collapsed": false
   },
   "id": "35cc5d40e1b7e475"
  }
 ],
 "metadata": {
  "kernelspec": {
   "display_name": "Python 3",
   "language": "python",
   "name": "python3"
  },
  "language_info": {
   "codemirror_mode": {
    "name": "ipython",
    "version": 3
   },
   "file_extension": ".py",
   "mimetype": "text/x-python",
   "name": "python",
   "nbconvert_exporter": "python",
   "pygments_lexer": "ipython3",
   "version": "3.11.2"
  }
 },
 "nbformat": 4,
 "nbformat_minor": 5
}
